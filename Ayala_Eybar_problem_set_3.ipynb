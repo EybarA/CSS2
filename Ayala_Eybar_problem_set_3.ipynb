{
  "nbformat": 4,
  "nbformat_minor": 0,
  "metadata": {
    "colab": {
      "name": "Ayala_Eybar_problem_set_3",
      "provenance": []
    },
    "kernelspec": {
      "name": "python3",
      "display_name": "Python 3"
    },
    "language_info": {
      "name": "python"
    }
  },
  "cells": [
    {
      "cell_type": "markdown",
      "metadata": {
        "id": "tqxZe_TDebCE"
      },
      "source": [
        "## Block 1"
      ]
    },
    {
      "cell_type": "code",
      "metadata": {
        "id": "3n0cgaboeZIn"
      },
      "source": [
        "# Importing the libraries\n",
        "import numpy as np\n",
        "import pandas as pd\n",
        "import seaborn as sns\n",
        "import matplotlib.pyplot as plt\n",
        "from bs4 import BeautifulSoup\n",
        "import requests"
      ],
      "execution_count": 114,
      "outputs": []
    },
    {
      "cell_type": "markdown",
      "metadata": {
        "id": "Um369PBteq5n"
      },
      "source": [
        "## Block 2"
      ]
    },
    {
      "cell_type": "code",
      "metadata": {
        "id": "EwDnTeFueqtP"
      },
      "source": [
        "# Scraping the dataset\n",
        "webdata = pd.read_html('https://en.wikipedia.org/wiki/MonsterVerse')\n",
        "#print(type(webdata[3]))\n",
        "dataset = webdata[3]\n",
        "dataset.head(7)"
      ],
      "execution_count": null,
      "outputs": []
    },
    {
      "cell_type": "markdown",
      "metadata": {
        "id": "rZH2Lg6okBE-"
      },
      "source": [
        "## Block 3"
      ]
    },
    {
      "cell_type": "code",
      "metadata": {
        "id": "aaN5CSexkCtG"
      },
      "source": [
        "# Doing steps 1-3\n",
        "\n",
        "# Renaming the columns to remove Films and Monsters\n",
        "dataset.columns = ['Character','Godzilla','Kong:Skull Island','Godzilla:King of the Monsters','Godzilla vs Kong']\n",
        "#dataset.head(7)\n",
        "\n",
        "# Making the index be the names of the character rather than digits\n",
        "dataset.index = dataset['Character']\n",
        "#dataset.head(7)\n",
        "\n",
        "# Removing column 'Character'\n",
        "dataset.drop(columns = 'Character',inplace = True)\n",
        "#dataset.head(7)\n",
        "\n",
        "# Removing the row that has the duplicates\n",
        "dataset.drop(dataset.index[[5]],inplace = True)\n",
        "dataset.head(7)"
      ],
      "execution_count": null,
      "outputs": []
    },
    {
      "cell_type": "markdown",
      "metadata": {
        "id": "5n5TVpv7Gc-0"
      },
      "source": [
        "## Block 4"
      ]
    },
    {
      "cell_type": "code",
      "metadata": {
        "id": "75g5foIjGerh"
      },
      "source": [
        "# Saving the file as a .csv with the delimiter being tabs\n",
        "dataset.to_csv('cleaned.csv', sep = '\\t')"
      ],
      "execution_count": 120,
      "outputs": []
    }
  ]
}