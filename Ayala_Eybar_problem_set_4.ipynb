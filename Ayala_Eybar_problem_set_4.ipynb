{
  "nbformat": 4,
  "nbformat_minor": 0,
  "metadata": {
    "colab": {
      "name": "Ayala_Eybar_problem_set_4",
      "provenance": []
    },
    "kernelspec": {
      "name": "python3",
      "display_name": "Python 3"
    },
    "language_info": {
      "name": "python"
    }
  },
  "cells": [
    {
      "cell_type": "markdown",
      "metadata": {
        "id": "mAHG43PuKzOX"
      },
      "source": [
        "## Block 1"
      ]
    },
    {
      "cell_type": "code",
      "metadata": {
        "id": "bpcPjWveKqu2"
      },
      "source": [
        "# importing libraries\n",
        "import numpy as np\n",
        "import pandas as pd\n",
        "import seaborn as sns\n",
        "from bs4 import BeautifulSoup\n",
        "import requests"
      ],
      "execution_count": 1,
      "outputs": []
    },
    {
      "cell_type": "markdown",
      "metadata": {
        "id": "swPIV6E3OGe0"
      },
      "source": [
        "## Block 2"
      ]
    },
    {
      "cell_type": "code",
      "metadata": {
        "id": "i0LX43DvOIjo"
      },
      "source": [
        "# empty list to store the info\n",
        "info = []\n",
        "r_info = []\n",
        "# function that will scrape the info\n",
        "def find_info(zipcode):\n",
        "  url = 'https://weather.com/weather/today/l/' + str(zipcode) + ':4:US' # obtaining the url for the zip\n",
        "  response = requests.get(url)\n",
        "  if response.status_code == 200: # making sure it obtained the right url\n",
        "    soup = BeautifulSoup(response.content,'html.parser') # getting the content\n",
        "    tag = soup.find_all(class_ = 'card') # relevant tag\n",
        "    if len(tag) > 0: # making sure that it actually obtained something\n",
        "      fore = tag[1].text\n",
        "      f_split = fore.split()\n",
        "      for n in range(0,len(f_split)):\n",
        "        info.append(f_split[n])\n",
        "      # This checks the length of the info given (12 means that the city is 1 word, 13 city is 2 words and so on)\n",
        "      # only will work for cities with 3 words or less :(\n",
        "      # string = stores string that contains state and temperature\n",
        "      # string[0:2] = state\n",
        "      # string [9:12] = temperature\n",
        "      # fin = zip code\n",
        "      if len(info) == 12:\n",
        "        con = info[3:4]\n",
        "        r_info.append(con) # takes the city (only 1 word)\n",
        "        string = info[4]\n",
        "        r_info.append(string[0:2]) \n",
        "        r_info.append(string[9:12])\n",
        "        r_info.append(str(zipcode))\n",
        "        data = r_info\n",
        "      elif len(info) == 13:\n",
        "        con = info[3:5]\n",
        "        connect = ' '.join(con) # 2 words (city) combined\n",
        "        r_info.append(connect)\n",
        "        string = info[5]\n",
        "        r_info.append(string[0:2])\n",
        "        r_info.append(string[9:12])\n",
        "        r_info.append(str(zipcode))\n",
        "        data = r_info\n",
        "      elif len(info) == 14:\n",
        "        con = all[3:6]\n",
        "        connect = ' '.join(con) # 3 words (city) combined\n",
        "        r_info.append(connect)\n",
        "        string = info[6]\n",
        "        r_info.append(string[0:2])\n",
        "        r_info.append(string[9:12])\n",
        "        r_info.append(str(zipcode))\n",
        "        data = r_info\n",
        "  print(r_info)"
      ],
      "execution_count": 43,
      "outputs": []
    },
    {
      "cell_type": "markdown",
      "metadata": {
        "id": "0m4Xz9QWOt-L"
      },
      "source": [
        "## Block 3"
      ]
    },
    {
      "cell_type": "code",
      "metadata": {
        "colab": {
          "base_uri": "https://localhost:8080/"
        },
        "id": "asNFCo0eUaJP",
        "outputId": "9b13d7bd-a1e7-4735-e31a-4757b9c265ad"
      },
      "source": [
        "# everytime you try a new zip code you need to rerun the function cell first in order to reset it\n",
        "find_info(XXXXX)\n",
        "# one word cities probably don't work either"
      ],
      "execution_count": 44,
      "outputs": [
        {
          "output_type": "stream",
          "text": [
            "[]\n"
          ],
          "name": "stdout"
        }
      ]
    }
  ]
}