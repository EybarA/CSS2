{
  "nbformat": 4,
  "nbformat_minor": 0,
  "metadata": {
    "colab": {
      "name": "Ayala_Eybar_problem_set_6",
      "provenance": []
    },
    "kernelspec": {
      "name": "python3",
      "display_name": "Python 3"
    },
    "language_info": {
      "name": "python"
    }
  },
  "cells": [
    {
      "cell_type": "markdown",
      "metadata": {
        "id": "WX8EvQDpGzVm"
      },
      "source": [
        "## Block 1"
      ]
    },
    {
      "cell_type": "code",
      "metadata": {
        "id": "rMO6EspdGUZp"
      },
      "source": [
        "# loading the dataset\n",
        "import pandas as pd\n",
        "\n",
        "from sklearn.datasets import load_diabetes\n",
        "\n",
        "diabetes = load_diabetes()\n",
        "\n",
        "X = pd.DataFrame(diabetes.data,columns=diabetes.feature_names)\n",
        "\n",
        "y = diabetes.target"
      ],
      "execution_count": 10,
      "outputs": []
    },
    {
      "cell_type": "markdown",
      "metadata": {
        "id": "3Z_VP57rHrR4"
      },
      "source": [
        "## Block 2"
      ]
    },
    {
      "cell_type": "code",
      "metadata": {
        "id": "cJBAUS8kHukb"
      },
      "source": [
        "# importing other necessary libaries\n",
        "import numpy as pd\n",
        "import matplotlib.pyplot as plt\n",
        "import seaborn as sns\n",
        "from sklearn.linear_model import LinearRegression\n",
        "from sklearn.model_selection import train_test_split"
      ],
      "execution_count": 2,
      "outputs": []
    },
    {
      "cell_type": "code",
      "metadata": {
        "colab": {
          "base_uri": "https://localhost:8080/"
        },
        "id": "QIq5Vfw_gSnu",
        "outputId": "bc8f2327-9dbd-4b9f-8c1b-f610124ca19b"
      },
      "source": [
        "#X.shape #checking the shape"
      ],
      "execution_count": 29,
      "outputs": [
        {
          "output_type": "execute_result",
          "data": {
            "text/plain": [
              "(442, 10)"
            ]
          },
          "metadata": {
            "tags": []
          },
          "execution_count": 29
        }
      ]
    },
    {
      "cell_type": "markdown",
      "metadata": {
        "id": "mbQhUyy_IGTL"
      },
      "source": [
        "## Block 3"
      ]
    },
    {
      "cell_type": "code",
      "metadata": {
        "id": "7HufiwiDIINp"
      },
      "source": [
        "# creating a function\n",
        "def model_dia(X,y):\n",
        "  Xtrain, Xtest, ytrain, ytest = train_test_split(X,y,random_state=1)\n",
        "  model = LinearRegression(fit_intercept=True)\n",
        "  model.fit(Xtrain,ytrain)\n",
        "\n",
        "  print('Training R^2', model.score(Xtrain,ytrain))\n",
        "  print('Testing R^2',model.score(Xtest,ytest))\n",
        "  print('y = ',model.coef_[0],'*x + ', model.intercept_)\n",
        "\n",
        "  \n",
        "  y_model = model.predict(Xtest)\n"
      ],
      "execution_count": 61,
      "outputs": []
    },
    {
      "cell_type": "code",
      "metadata": {
        "colab": {
          "base_uri": "https://localhost:8080/",
          "height": 202
        },
        "id": "WaACqks0LibR",
        "outputId": "2540fccd-07f7-486e-b519-26b045b979bb"
      },
      "source": [
        "#x.head() #checking what the columns are"
      ],
      "execution_count": 44,
      "outputs": [
        {
          "output_type": "execute_result",
          "data": {
            "text/html": [
              "<div>\n",
              "<style scoped>\n",
              "    .dataframe tbody tr th:only-of-type {\n",
              "        vertical-align: middle;\n",
              "    }\n",
              "\n",
              "    .dataframe tbody tr th {\n",
              "        vertical-align: top;\n",
              "    }\n",
              "\n",
              "    .dataframe thead th {\n",
              "        text-align: right;\n",
              "    }\n",
              "</style>\n",
              "<table border=\"1\" class=\"dataframe\">\n",
              "  <thead>\n",
              "    <tr style=\"text-align: right;\">\n",
              "      <th></th>\n",
              "      <th>age</th>\n",
              "      <th>sex</th>\n",
              "      <th>bmi</th>\n",
              "      <th>bp</th>\n",
              "      <th>s1</th>\n",
              "      <th>s2</th>\n",
              "      <th>s3</th>\n",
              "      <th>s4</th>\n",
              "      <th>s5</th>\n",
              "      <th>s6</th>\n",
              "    </tr>\n",
              "  </thead>\n",
              "  <tbody>\n",
              "    <tr>\n",
              "      <th>0</th>\n",
              "      <td>0.038076</td>\n",
              "      <td>0.050680</td>\n",
              "      <td>0.061696</td>\n",
              "      <td>0.021872</td>\n",
              "      <td>-0.044223</td>\n",
              "      <td>-0.034821</td>\n",
              "      <td>-0.043401</td>\n",
              "      <td>-0.002592</td>\n",
              "      <td>0.019908</td>\n",
              "      <td>-0.017646</td>\n",
              "    </tr>\n",
              "    <tr>\n",
              "      <th>1</th>\n",
              "      <td>-0.001882</td>\n",
              "      <td>-0.044642</td>\n",
              "      <td>-0.051474</td>\n",
              "      <td>-0.026328</td>\n",
              "      <td>-0.008449</td>\n",
              "      <td>-0.019163</td>\n",
              "      <td>0.074412</td>\n",
              "      <td>-0.039493</td>\n",
              "      <td>-0.068330</td>\n",
              "      <td>-0.092204</td>\n",
              "    </tr>\n",
              "    <tr>\n",
              "      <th>2</th>\n",
              "      <td>0.085299</td>\n",
              "      <td>0.050680</td>\n",
              "      <td>0.044451</td>\n",
              "      <td>-0.005671</td>\n",
              "      <td>-0.045599</td>\n",
              "      <td>-0.034194</td>\n",
              "      <td>-0.032356</td>\n",
              "      <td>-0.002592</td>\n",
              "      <td>0.002864</td>\n",
              "      <td>-0.025930</td>\n",
              "    </tr>\n",
              "    <tr>\n",
              "      <th>3</th>\n",
              "      <td>-0.089063</td>\n",
              "      <td>-0.044642</td>\n",
              "      <td>-0.011595</td>\n",
              "      <td>-0.036656</td>\n",
              "      <td>0.012191</td>\n",
              "      <td>0.024991</td>\n",
              "      <td>-0.036038</td>\n",
              "      <td>0.034309</td>\n",
              "      <td>0.022692</td>\n",
              "      <td>-0.009362</td>\n",
              "    </tr>\n",
              "    <tr>\n",
              "      <th>4</th>\n",
              "      <td>0.005383</td>\n",
              "      <td>-0.044642</td>\n",
              "      <td>-0.036385</td>\n",
              "      <td>0.021872</td>\n",
              "      <td>0.003935</td>\n",
              "      <td>0.015596</td>\n",
              "      <td>0.008142</td>\n",
              "      <td>-0.002592</td>\n",
              "      <td>-0.031991</td>\n",
              "      <td>-0.046641</td>\n",
              "    </tr>\n",
              "  </tbody>\n",
              "</table>\n",
              "</div>"
            ],
            "text/plain": [
              "        age       sex       bmi  ...        s4        s5        s6\n",
              "0  0.038076  0.050680  0.061696  ... -0.002592  0.019908 -0.017646\n",
              "1 -0.001882 -0.044642 -0.051474  ... -0.039493 -0.068330 -0.092204\n",
              "2  0.085299  0.050680  0.044451  ... -0.002592  0.002864 -0.025930\n",
              "3 -0.089063 -0.044642 -0.011595  ...  0.034309  0.022692 -0.009362\n",
              "4  0.005383 -0.044642 -0.036385  ... -0.002592 -0.031991 -0.046641\n",
              "\n",
              "[5 rows x 10 columns]"
            ]
          },
          "metadata": {
            "tags": []
          },
          "execution_count": 44
        }
      ]
    },
    {
      "cell_type": "markdown",
      "metadata": {
        "id": "m65xAKgbfqou"
      },
      "source": [
        "## Block 4"
      ]
    },
    {
      "cell_type": "code",
      "metadata": {
        "colab": {
          "base_uri": "https://localhost:8080/"
        },
        "id": "gXkld74GftSl",
        "outputId": "49d201b4-80f3-47cf-9d4e-2f04b337abdd"
      },
      "source": [
        "# trying with column 'age'\n",
        "model_dia(X[['age']],y)"
      ],
      "execution_count": 62,
      "outputs": [
        {
          "output_type": "stream",
          "text": [
            "Training R^2 0.045384727639879774\n",
            "Testing R^2 -0.011092244658333694\n",
            "y =  352.7409414376732 *x +  153.6613607905345\n"
          ],
          "name": "stdout"
        }
      ]
    },
    {
      "cell_type": "markdown",
      "metadata": {
        "id": "--WZoYMhnzRY"
      },
      "source": [
        "## Block 5"
      ]
    },
    {
      "cell_type": "code",
      "metadata": {
        "id": "R_5wDTnfhrI5"
      },
      "source": [
        "#finding the column that best predicts y (highest testing R^2)\n",
        "\n",
        "print('------------ Age ------------')\n",
        "print(model_dia(X[['age']],y))\n",
        "\n",
        "print('------------ Sex ------------')\n",
        "print(model_dia(X[['sex']],y))\n",
        "\n",
        "print('------------ BMI ------------') # has the the highest training R^2\n",
        "print(model_dia(X[['bmi']],y))\n",
        "\n",
        "print('------------ BP ------------')\n",
        "print(model_dia(X[['bp']],y))\n",
        "\n",
        "print('------------ s1 ------------')\n",
        "print(model_dia(X[['s1']],y))\n",
        "\n",
        "print('------------ s2 ------------')\n",
        "print(model_dia(X[['s2']],y))\n",
        "\n",
        "print('------------ s3 ------------')\n",
        "print(model_dia(X[['s3']],y))\n",
        "\n",
        "print('------------ s4 ------------')\n",
        "print(model_dia(X[['s4']],y))\n",
        "\n",
        "print('------------ s5 ------------') #has the highest testing R^2\n",
        "print(model_dia(X[['s5']],y))\n",
        "\n",
        "print('------------ s6 ------------')\n",
        "print(model_dia(X[['s6']],y))"
      ],
      "execution_count": null,
      "outputs": []
    },
    {
      "cell_type": "markdown",
      "metadata": {
        "id": "4sawCs9VuGZD"
      },
      "source": [
        "## Block 6"
      ]
    },
    {
      "cell_type": "code",
      "metadata": {
        "id": "g07k53sa3tUj"
      },
      "source": [
        "Xtrain, Xtest, ytrain, ytest = train_test_split(X,y,random_state=1)\n",
        "model = LinearRegression(fit_intercept=True)\n",
        "model.fit(Xtrain,ytrain)\n",
        "model.coef_\n",
        "model.intercept_\n",
        "model.score(Xtrain,ytrain)\n",
        "y_model = model.predict(Xtest)\n"
      ],
      "execution_count": null,
      "outputs": []
    },
    {
      "cell_type": "code",
      "metadata": {
        "colab": {
          "base_uri": "https://localhost:8080/",
          "height": 381
        },
        "id": "rFnByu0PEQ06",
        "outputId": "cfda6aa7-e20d-438f-91cd-a1058042103e"
      },
      "source": [
        "plt.scatter(Xtrain['s5'],ytrain)\n",
        "plt.title('Training Data')\n",
        "plt.xlabel('Xtrain')\n",
        "plt.ylabel('ytrain')\n",
        "#line = sns.lineplot(x =Xrain['s5'],y = y_model) # failed to set up best fitting model line\n",
        "print('------------ s5 ------------')\n",
        "print(model_dia(X[['s5']],y))"
      ],
      "execution_count": 118,
      "outputs": [
        {
          "output_type": "stream",
          "text": [
            "------------ s5 ------------\n",
            "Training R^2 0.32597994540659747\n",
            "Testing R^2 0.29630801377437443\n",
            "y =  919.8022547764292 *x +  152.42842476411315\n",
            "None\n"
          ],
          "name": "stdout"
        },
        {
          "output_type": "display_data",
          "data": {
            "image/png": "[encoded data removed]",
            "text/plain": [
              "<Figure size 432x288 with 1 Axes>"
            ]
          },
          "metadata": {
            "tags": [],
            "needs_background": "light"
          }
        }
      ]
    },
    {
      "cell_type": "code",
      "metadata": {
        "colab": {
          "base_uri": "https://localhost:8080/",
          "height": 381
        },
        "id": "Bw_syQXX2K7Z",
        "outputId": "007c2ff0-5249-4be6-bf4b-18ec8c74d931"
      },
      "source": [
        "plt.scatter(Xtest['s5'],ytest)\n",
        "plt.title('Testing Data')\n",
        "plt.xlabel('Xtest')\n",
        "plt.ylabel('ytest')\n",
        "#line = sns.lineplot(x =Xtest['s5'],y = y_model) # failed to set up best fitting model line\n",
        "print('------------ s5 ------------')\n",
        "print(model_dia(X[['s5']],y))"
      ],
      "execution_count": 119,
      "outputs": [
        {
          "output_type": "stream",
          "text": [
            "------------ s5 ------------\n",
            "Training R^2 0.32597994540659747\n",
            "Testing R^2 0.29630801377437443\n",
            "y =  919.8022547764292 *x +  152.42842476411315\n",
            "None\n"
          ],
          "name": "stdout"
        },
        {
          "output_type": "display_data",
          "data": {
            "image/png": "[encoded data removed]",
            "text/plain": [
              "<Figure size 432x288 with 1 Axes>"
            ]
          },
          "metadata": {
            "tags": [],
            "needs_background": "light"
          }
        }
      ]
    }
  ]
}