{
  "nbformat": 4,
  "nbformat_minor": 0,
  "metadata": {
    "colab": {
      "name": "Ayala_Eybar_problem_set_2",
      "provenance": []
    },
    "kernelspec": {
      "name": "python3",
      "display_name": "Python 3"
    },
    "language_info": {
      "name": "python"
    }
  },
  "cells": [
    {
      "cell_type": "markdown",
      "metadata": {
        "id": "1VRlKfm0rkcm"
      },
      "source": [
        "## Block 1"
      ]
    },
    {
      "cell_type": "code",
      "metadata": {
        "id": "qnxmzageopPv"
      },
      "source": [
        "# Libraries being imported\n",
        "import numpy as np\n",
        "import pandas as pd\n",
        "import matplotlib.pyplot as plt\n",
        "import seaborn as sns"
      ],
      "execution_count": 143,
      "outputs": []
    },
    {
      "cell_type": "markdown",
      "metadata": {
        "id": "EkvBG2HS1L_q"
      },
      "source": [
        "## Block 2"
      ]
    },
    {
      "cell_type": "code",
      "metadata": {
        "id": "SkyblZSb3INy"
      },
      "source": [
        "# loading in the dataset\n",
        "ds = sns.load_dataset('anscombe')"
      ],
      "execution_count": 144,
      "outputs": []
    },
    {
      "cell_type": "code",
      "metadata": {
        "id": "nv5f3ojDejEx"
      },
      "source": [
        "# Splitting the datasets and storing each x and y points.\n",
        "I = ds[ds['dataset']=='I']\n",
        "II = ds[ds['dataset']=='II']\n",
        "III = ds[ds['dataset']=='III']\n",
        "IV = ds[ds['dataset']=='IV']\n",
        "x1 = (I['x'])\n",
        "y1 = I['y']\n",
        "x2 = II['x']\n",
        "y2 = II['y']\n",
        "x3 = III['x']\n",
        "y3 = III['y']\n",
        "x4 = IV['x']\n",
        "y4 = IV['y']"
      ],
      "execution_count": 145,
      "outputs": []
    },
    {
      "cell_type": "code",
      "metadata": {
        "id": "90x3dzoV5ICP"
      },
      "source": [
        "# Creating the graph\n",
        "fig,axes = plt.subplots(nrows=2,ncols=2)\n",
        "axes[0,0].plot(x1,y1,linestyle='',marker='o')\n",
        "axes[0,1].plot(x2,y2,linestyle='',marker='o', color = 'g')\n",
        "axes[1,0].plot(x3,y3,linestyle='',marker='o', color = 'r')\n",
        "axes[1,1].plot(x4,y4,linestyle='',marker='o', color = 'y')\n",
        "for i in np.arange(0,2):\n",
        "  for j in np.arange(0,2):\n",
        "    if j == 0 and i == 0:\n",
        "      axes[i,j].set_title('Dataset 1')\n",
        "    elif j == 0 and i == 1:\n",
        "      axes[i,j].set_title('Dataset 2')\n",
        "    elif j == 1 and i == 0:\n",
        "      axes[i,j].set_title('Dataset 3')\n",
        "    else:\n",
        "      axes[i,j].set_title('Dataset 4')\n",
        "    axes[i,j].set_xlabel('X axis')\n",
        "    axes[i,j].set_ylabel('Y axis')\n",
        "    axes[i,j].set_xlim([4,18])\n",
        "    axes[i,j].set_ylim([4,12])\n",
        "plt.tight_layout()"
      ],
      "execution_count": null,
      "outputs": []
    },
    {
      "cell_type": "markdown",
      "metadata": {
        "id": "8XLFB1VQ2lQc"
      },
      "source": [
        "## Block 3"
      ]
    },
    {
      "cell_type": "code",
      "metadata": {
        "id": "q6vmkqf12T2h"
      },
      "source": [
        "# Saving the image\n",
        "x = fig.savefig('fig')"
      ],
      "execution_count": 147,
      "outputs": []
    }
  ]
}