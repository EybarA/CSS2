{
  "nbformat": 4,
  "nbformat_minor": 0,
  "metadata": {
    "colab": {
      "name": "Ayala_Eybar_problem_set_5",
      "provenance": []
    },
    "kernelspec": {
      "name": "python3",
      "display_name": "Python 3"
    },
    "language_info": {
      "name": "python"
    }
  },
  "cells": [
    {
      "cell_type": "markdown",
      "metadata": {
        "id": "L4bvWhAW0vfa"
      },
      "source": [
        "## Block 1"
      ]
    },
    {
      "cell_type": "code",
      "metadata": {
        "id": "XFOCJACl0lTR"
      },
      "source": [
        "# Importing libraries\n",
        "import numpy as np\n",
        "import pandas as pd\n",
        "import matplotlib.pyplot as plt\n",
        "import seaborn as sns"
      ],
      "execution_count": 1,
      "outputs": []
    },
    {
      "cell_type": "markdown",
      "metadata": {
        "id": "tzXjW3pS2Z8u"
      },
      "source": [
        "## Block 2"
      ]
    },
    {
      "cell_type": "code",
      "metadata": {
        "colab": {
          "base_uri": "https://localhost:8080/"
        },
        "id": "1K2t8h182Y1i",
        "outputId": "4ce5d658-4f12-4035-ad3b-fad574f524e8"
      },
      "source": [
        "# Loading the data in\n",
        "filename = 'messed_up_iris.xlsx'\n",
        "data = pd.read_excel(filename)\n",
        "data1 = data.drop(data.columns[[0]], axis = 1) # dropping the extra index column \n",
        "shape = data1.shape\n",
        "head = data1.head()\n",
        "print('------------ Shape ------------')\n",
        "print(shape)\n",
        "print('------------ Head ------------')\n",
        "print(head)"
      ],
      "execution_count": 2,
      "outputs": [
        {
          "output_type": "stream",
          "text": [
            "------------ Shape ------------\n",
            "(150, 7)\n",
            "------------ Head ------------\n",
            "   sepal_length  sepal_width  petal_length  petal_width species   color  origin\n",
            "0           5.1          3.5           1.4          0.2  setosa   green     usa\n",
            "1           4.9          3.0           1.4          0.2  setosa  yellow     usa\n",
            "2           4.7          3.2           1.3          0.2  setosa   green     usa\n",
            "3           4.6          3.1           1.5          0.2  setosa  orange   japan\n",
            "4           5.0          3.6           1.4          0.2  setosa    blue  europe\n"
          ],
          "name": "stdout"
        }
      ]
    },
    {
      "cell_type": "markdown",
      "metadata": {
        "id": "BaVa5p6FLmR5"
      },
      "source": [
        "## Block 3"
      ]
    },
    {
      "cell_type": "code",
      "metadata": {
        "colab": {
          "base_uri": "https://localhost:8080/"
        },
        "id": "P_JWGWJNLniX",
        "outputId": "73cc978c-aaad-4e7e-f42c-561af622bcfe"
      },
      "source": [
        "# removing columns/rows that have more than 50% of data missing\n",
        "#sns.heatmap(datano.isnull(),cmap=['Green','Red'])\n",
        "data2 = data1.drop(['color'], axis = 1)\n",
        "data2.head()\n",
        "datano = data2.dropna(thresh = 4)\n",
        "print('------------ New Shape ------------')\n",
        "nshape = datano.shape\n",
        "print(nshape)"
      ],
      "execution_count": 3,
      "outputs": [
        {
          "output_type": "stream",
          "text": [
            "------------ New Shape ------------\n",
            "(145, 6)\n"
          ],
          "name": "stdout"
        }
      ]
    },
    {
      "cell_type": "markdown",
      "metadata": {
        "id": "uRXMY4IwScaU"
      },
      "source": [
        "## Block 4"
      ]
    },
    {
      "cell_type": "code",
      "metadata": {
        "colab": {
          "base_uri": "https://localhost:8080/"
        },
        "id": "CYVd24k-Sbyt",
        "outputId": "1a034586-8e51-4bb1-e645-410d927e2dec"
      },
      "source": [
        "# removing duplicated data\n",
        "any(datano.duplicated())\n",
        "datano[datano.duplicated (keep = False)]\n",
        "datanomo = datano.drop_duplicates(ignore_index = True)\n",
        "any(datanomo.duplicated())\n",
        "print('------------ NO Duplicates Shape ------------')\n",
        "datanomo.shape"
      ],
      "execution_count": 4,
      "outputs": [
        {
          "output_type": "stream",
          "text": [
            "------------ NO Duplicates Shape ------------\n"
          ],
          "name": "stdout"
        },
        {
          "output_type": "execute_result",
          "data": {
            "text/plain": [
              "(140, 6)"
            ]
          },
          "metadata": {
            "tags": []
          },
          "execution_count": 4
        }
      ]
    },
    {
      "cell_type": "markdown",
      "metadata": {
        "id": "w1lctF4dWhtV"
      },
      "source": [
        "## Block 5"
      ]
    },
    {
      "cell_type": "code",
      "metadata": {
        "colab": {
          "base_uri": "https://localhost:8080/"
        },
        "id": "e_fLd5udWhbc",
        "outputId": "55f4e8f4-2d37-4c7e-c289-ea7cd67ba2d0"
      },
      "source": [
        "# Dummy code the categorical data\n",
        "datanomo['species'] = np.where(datanomo['species'] == 'seotsa','setosa',datanomo['species'])\n",
        "datanomo['species'] = np.where(datanomo['species'] == 'versicolr','versicolor',datanomo['species'])\n",
        "datanomo['species'] = np.where(datanomo['species'] == 'virginia','virginica',datanomo['species'])\n",
        "datanomo['species'] = np.where(datanomo['species'] == 'west virginia','virginica',datanomo['species'])\n",
        "datanomo['origin'] = np.where(datanomo['origin'] == 'euarope','europe',datanomo['origin'])\n",
        "datanomo['origin'] = np.where(datanomo['origin'] == 'uas','usa',datanomo['origin'])\n",
        "species_only = pd.get_dummies(datanomo['species'])\n",
        "print('------------ Species head ------------')\n",
        "sh = species_only.head()\n",
        "print(sh)\n",
        "origin_only = pd.get_dummies(datanomo['origin'])\n",
        "print('------------ Origin head ------------')\n",
        "oh = origin_only.head()\n",
        "print(oh)"
      ],
      "execution_count": 5,
      "outputs": [
        {
          "output_type": "stream",
          "text": [
            "------------ Species head ------------\n",
            "   setosa  versicolor  virginica\n",
            "0       1           0          0\n",
            "1       1           0          0\n",
            "2       1           0          0\n",
            "3       1           0          0\n",
            "4       1           0          0\n",
            "------------ Origin head ------------\n",
            "   europe  japan  usa\n",
            "0       0      0    1\n",
            "1       0      0    1\n",
            "2       0      0    1\n",
            "3       0      1    0\n",
            "4       1      0    0\n"
          ],
          "name": "stdout"
        },
        {
          "output_type": "stream",
          "text": [
            "/usr/local/lib/python3.7/dist-packages/ipykernel_launcher.py:2: SettingWithCopyWarning: \n",
            "A value is trying to be set on a copy of a slice from a DataFrame.\n",
            "Try using .loc[row_indexer,col_indexer] = value instead\n",
            "\n",
            "See the caveats in the documentation: https://pandas.pydata.org/pandas-docs/stable/user_guide/indexing.html#returning-a-view-versus-a-copy\n",
            "  \n",
            "/usr/local/lib/python3.7/dist-packages/ipykernel_launcher.py:3: SettingWithCopyWarning: \n",
            "A value is trying to be set on a copy of a slice from a DataFrame.\n",
            "Try using .loc[row_indexer,col_indexer] = value instead\n",
            "\n",
            "See the caveats in the documentation: https://pandas.pydata.org/pandas-docs/stable/user_guide/indexing.html#returning-a-view-versus-a-copy\n",
            "  This is separate from the ipykernel package so we can avoid doing imports until\n",
            "/usr/local/lib/python3.7/dist-packages/ipykernel_launcher.py:4: SettingWithCopyWarning: \n",
            "A value is trying to be set on a copy of a slice from a DataFrame.\n",
            "Try using .loc[row_indexer,col_indexer] = value instead\n",
            "\n",
            "See the caveats in the documentation: https://pandas.pydata.org/pandas-docs/stable/user_guide/indexing.html#returning-a-view-versus-a-copy\n",
            "  after removing the cwd from sys.path.\n",
            "/usr/local/lib/python3.7/dist-packages/ipykernel_launcher.py:5: SettingWithCopyWarning: \n",
            "A value is trying to be set on a copy of a slice from a DataFrame.\n",
            "Try using .loc[row_indexer,col_indexer] = value instead\n",
            "\n",
            "See the caveats in the documentation: https://pandas.pydata.org/pandas-docs/stable/user_guide/indexing.html#returning-a-view-versus-a-copy\n",
            "  \"\"\"\n",
            "/usr/local/lib/python3.7/dist-packages/ipykernel_launcher.py:6: SettingWithCopyWarning: \n",
            "A value is trying to be set on a copy of a slice from a DataFrame.\n",
            "Try using .loc[row_indexer,col_indexer] = value instead\n",
            "\n",
            "See the caveats in the documentation: https://pandas.pydata.org/pandas-docs/stable/user_guide/indexing.html#returning-a-view-versus-a-copy\n",
            "  \n",
            "/usr/local/lib/python3.7/dist-packages/ipykernel_launcher.py:7: SettingWithCopyWarning: \n",
            "A value is trying to be set on a copy of a slice from a DataFrame.\n",
            "Try using .loc[row_indexer,col_indexer] = value instead\n",
            "\n",
            "See the caveats in the documentation: https://pandas.pydata.org/pandas-docs/stable/user_guide/indexing.html#returning-a-view-versus-a-copy\n",
            "  import sys\n"
          ],
          "name": "stderr"
        }
      ]
    },
    {
      "cell_type": "markdown",
      "metadata": {
        "id": "tubE3va8wmlH"
      },
      "source": [
        "## Block 6"
      ]
    },
    {
      "cell_type": "code",
      "metadata": {
        "colab": {
          "base_uri": "https://localhost:8080/",
          "height": 220
        },
        "id": "Cu8iH_61wmFm",
        "outputId": "3d1b3fb6-ec7f-45bb-bc9e-fdc4a45a384f"
      },
      "source": [
        "# Dropping the redundant columns\n",
        "datanomo = pd.concat([datanomo.drop('species',axis=1), pd.get_dummies(datanomo['species'],drop_first=True)], axis=1)\n",
        "datanomo = pd.concat([datanomo.drop('origin',axis=1), pd.get_dummies(datanomo['origin'],drop_first=True)], axis=1)\n",
        "print('------------ Dummy columns ------------')\n",
        "datanomo.head()"
      ],
      "execution_count": 6,
      "outputs": [
        {
          "output_type": "stream",
          "text": [
            "------------ Dummy columns ------------\n"
          ],
          "name": "stdout"
        },
        {
          "output_type": "execute_result",
          "data": {
            "text/html": [
              "<div>\n",
              "<style scoped>\n",
              "    .dataframe tbody tr th:only-of-type {\n",
              "        vertical-align: middle;\n",
              "    }\n",
              "\n",
              "    .dataframe tbody tr th {\n",
              "        vertical-align: top;\n",
              "    }\n",
              "\n",
              "    .dataframe thead th {\n",
              "        text-align: right;\n",
              "    }\n",
              "</style>\n",
              "<table border=\"1\" class=\"dataframe\">\n",
              "  <thead>\n",
              "    <tr style=\"text-align: right;\">\n",
              "      <th></th>\n",
              "      <th>sepal_length</th>\n",
              "      <th>sepal_width</th>\n",
              "      <th>petal_length</th>\n",
              "      <th>petal_width</th>\n",
              "      <th>versicolor</th>\n",
              "      <th>virginica</th>\n",
              "      <th>japan</th>\n",
              "      <th>usa</th>\n",
              "    </tr>\n",
              "  </thead>\n",
              "  <tbody>\n",
              "    <tr>\n",
              "      <th>0</th>\n",
              "      <td>5.1</td>\n",
              "      <td>3.5</td>\n",
              "      <td>1.4</td>\n",
              "      <td>0.2</td>\n",
              "      <td>0</td>\n",
              "      <td>0</td>\n",
              "      <td>0</td>\n",
              "      <td>1</td>\n",
              "    </tr>\n",
              "    <tr>\n",
              "      <th>1</th>\n",
              "      <td>4.9</td>\n",
              "      <td>3.0</td>\n",
              "      <td>1.4</td>\n",
              "      <td>0.2</td>\n",
              "      <td>0</td>\n",
              "      <td>0</td>\n",
              "      <td>0</td>\n",
              "      <td>1</td>\n",
              "    </tr>\n",
              "    <tr>\n",
              "      <th>2</th>\n",
              "      <td>4.7</td>\n",
              "      <td>3.2</td>\n",
              "      <td>1.3</td>\n",
              "      <td>0.2</td>\n",
              "      <td>0</td>\n",
              "      <td>0</td>\n",
              "      <td>0</td>\n",
              "      <td>1</td>\n",
              "    </tr>\n",
              "    <tr>\n",
              "      <th>3</th>\n",
              "      <td>4.6</td>\n",
              "      <td>3.1</td>\n",
              "      <td>1.5</td>\n",
              "      <td>0.2</td>\n",
              "      <td>0</td>\n",
              "      <td>0</td>\n",
              "      <td>1</td>\n",
              "      <td>0</td>\n",
              "    </tr>\n",
              "    <tr>\n",
              "      <th>4</th>\n",
              "      <td>5.0</td>\n",
              "      <td>3.6</td>\n",
              "      <td>1.4</td>\n",
              "      <td>0.2</td>\n",
              "      <td>0</td>\n",
              "      <td>0</td>\n",
              "      <td>0</td>\n",
              "      <td>0</td>\n",
              "    </tr>\n",
              "  </tbody>\n",
              "</table>\n",
              "</div>"
            ],
            "text/plain": [
              "   sepal_length  sepal_width  petal_length  ...  virginica  japan  usa\n",
              "0           5.1          3.5           1.4  ...          0      0    1\n",
              "1           4.9          3.0           1.4  ...          0      0    1\n",
              "2           4.7          3.2           1.3  ...          0      0    1\n",
              "3           4.6          3.1           1.5  ...          0      1    0\n",
              "4           5.0          3.6           1.4  ...          0      0    0\n",
              "\n",
              "[5 rows x 8 columns]"
            ]
          },
          "metadata": {
            "tags": []
          },
          "execution_count": 6
        }
      ]
    },
    {
      "cell_type": "markdown",
      "metadata": {
        "id": "ZSZuf9l7yVJQ"
      },
      "source": [
        "## Block 7"
      ]
    },
    {
      "cell_type": "code",
      "metadata": {
        "id": "qQovJHw4yU7P"
      },
      "source": [
        "# Creating a new copy\n",
        "datanew = datanomo.copy()\n",
        "def remove_outliers(ser):\n",
        "  Q1 = ser.quantile(.20)\n",
        "  Q3 = ser.quantile(.80)\n",
        "  IQR = Q3 - Q1\n",
        "  return np.where((ser > (Q3+(IQR*1.5))) | (ser < (Q1-(IQR*1.5))), np.nan,ser) # only 90 percentile"
      ],
      "execution_count": 7,
      "outputs": []
    },
    {
      "cell_type": "code",
      "metadata": {
        "id": "SZ1ApXye3Njp"
      },
      "source": [
        "# Removing outliers\n",
        "for column in datanew.columns:\n",
        "  if isinstance(datanew[column][0],float)==1:\n",
        "    datanew[column] = remove_outliers(datanew[column])"
      ],
      "execution_count": 8,
      "outputs": []
    },
    {
      "cell_type": "markdown",
      "metadata": {
        "id": "L2PQauig3ydE"
      },
      "source": [
        "## Block 8"
      ]
    },
    {
      "cell_type": "code",
      "metadata": {
        "colab": {
          "base_uri": "https://localhost:8080/",
          "height": 202
        },
        "id": "Fr3AhfYv30QN",
        "outputId": "407d2581-76af-4b1e-9dc9-95c643719a51"
      },
      "source": [
        "# Replacing with median value\n",
        "f_data = datanew.fillna(data.median())\n",
        "final_data = pd.concat([f_data],axis=1)\n",
        "final_data.head()"
      ],
      "execution_count": 9,
      "outputs": [
        {
          "output_type": "execute_result",
          "data": {
            "text/html": [
              "<div>\n",
              "<style scoped>\n",
              "    .dataframe tbody tr th:only-of-type {\n",
              "        vertical-align: middle;\n",
              "    }\n",
              "\n",
              "    .dataframe tbody tr th {\n",
              "        vertical-align: top;\n",
              "    }\n",
              "\n",
              "    .dataframe thead th {\n",
              "        text-align: right;\n",
              "    }\n",
              "</style>\n",
              "<table border=\"1\" class=\"dataframe\">\n",
              "  <thead>\n",
              "    <tr style=\"text-align: right;\">\n",
              "      <th></th>\n",
              "      <th>sepal_length</th>\n",
              "      <th>sepal_width</th>\n",
              "      <th>petal_length</th>\n",
              "      <th>petal_width</th>\n",
              "      <th>versicolor</th>\n",
              "      <th>virginica</th>\n",
              "      <th>japan</th>\n",
              "      <th>usa</th>\n",
              "    </tr>\n",
              "  </thead>\n",
              "  <tbody>\n",
              "    <tr>\n",
              "      <th>0</th>\n",
              "      <td>5.1</td>\n",
              "      <td>3.5</td>\n",
              "      <td>1.4</td>\n",
              "      <td>0.2</td>\n",
              "      <td>0</td>\n",
              "      <td>0</td>\n",
              "      <td>0</td>\n",
              "      <td>1</td>\n",
              "    </tr>\n",
              "    <tr>\n",
              "      <th>1</th>\n",
              "      <td>4.9</td>\n",
              "      <td>3.0</td>\n",
              "      <td>1.4</td>\n",
              "      <td>0.2</td>\n",
              "      <td>0</td>\n",
              "      <td>0</td>\n",
              "      <td>0</td>\n",
              "      <td>1</td>\n",
              "    </tr>\n",
              "    <tr>\n",
              "      <th>2</th>\n",
              "      <td>4.7</td>\n",
              "      <td>3.2</td>\n",
              "      <td>1.3</td>\n",
              "      <td>0.2</td>\n",
              "      <td>0</td>\n",
              "      <td>0</td>\n",
              "      <td>0</td>\n",
              "      <td>1</td>\n",
              "    </tr>\n",
              "    <tr>\n",
              "      <th>3</th>\n",
              "      <td>4.6</td>\n",
              "      <td>3.1</td>\n",
              "      <td>1.5</td>\n",
              "      <td>0.2</td>\n",
              "      <td>0</td>\n",
              "      <td>0</td>\n",
              "      <td>1</td>\n",
              "      <td>0</td>\n",
              "    </tr>\n",
              "    <tr>\n",
              "      <th>4</th>\n",
              "      <td>5.0</td>\n",
              "      <td>3.6</td>\n",
              "      <td>1.4</td>\n",
              "      <td>0.2</td>\n",
              "      <td>0</td>\n",
              "      <td>0</td>\n",
              "      <td>0</td>\n",
              "      <td>0</td>\n",
              "    </tr>\n",
              "  </tbody>\n",
              "</table>\n",
              "</div>"
            ],
            "text/plain": [
              "   sepal_length  sepal_width  petal_length  ...  virginica  japan  usa\n",
              "0           5.1          3.5           1.4  ...          0      0    1\n",
              "1           4.9          3.0           1.4  ...          0      0    1\n",
              "2           4.7          3.2           1.3  ...          0      0    1\n",
              "3           4.6          3.1           1.5  ...          0      1    0\n",
              "4           5.0          3.6           1.4  ...          0      0    0\n",
              "\n",
              "[5 rows x 8 columns]"
            ]
          },
          "metadata": {
            "tags": []
          },
          "execution_count": 9
        }
      ]
    },
    {
      "cell_type": "markdown",
      "metadata": {
        "id": "hqPOsa3s585l"
      },
      "source": [
        "## Block 9"
      ]
    },
    {
      "cell_type": "code",
      "metadata": {
        "id": "Wvx1PznY58li"
      },
      "source": [
        "## Extra credit"
      ],
      "execution_count": 10,
      "outputs": []
    },
    {
      "cell_type": "markdown",
      "metadata": {
        "id": "cAyJyRol6BQb"
      },
      "source": [
        "## Block 10"
      ]
    },
    {
      "cell_type": "code",
      "metadata": {
        "colab": {
          "base_uri": "https://localhost:8080/",
          "height": 600
        },
        "id": "cZmup0ZV6Azy",
        "outputId": "88ba350d-d2cd-4e69-c3c8-e6c39efa0a7f"
      },
      "source": [
        "# showing off no more NAs\n",
        "print('------------ Describing it ------------  ')\n",
        "sns.heatmap(final_data.isnull(),cmap=['Red','Red'])\n",
        "is_NaN = final_data.isnull()\n",
        "row_has_NaN = is_NaN.any(axis=1)\n",
        "w = final_data.fillna(data.median())[row_has_NaN]\n",
        "#showing off the final dataset\n",
        "y = final_data.describe()\n",
        "print(y)\n",
        "print('------------ No More NaN ------------  ')\n",
        "print(w)"
      ],
      "execution_count": 11,
      "outputs": [
        {
          "output_type": "stream",
          "text": [
            "------------ Describing it ------------  \n",
            "       sepal_length  sepal_width  ...       japan         usa\n",
            "count    140.000000   140.000000  ...  140.000000  140.000000\n",
            "mean       5.872143     3.057857  ...    0.300000    0.364286\n",
            "std        0.791508     0.431505  ...    0.459903    0.482957\n",
            "min        4.300000     2.000000  ...    0.000000    0.000000\n",
            "25%        5.200000     2.800000  ...    0.000000    0.000000\n",
            "50%        5.800000     3.000000  ...    0.000000    0.000000\n",
            "75%        6.400000     3.300000  ...    1.000000    1.000000\n",
            "max        7.900000     4.400000  ...    1.000000    1.000000\n",
            "\n",
            "[8 rows x 8 columns]\n",
            "------------ No More NaN ------------  \n",
            "Empty DataFrame\n",
            "Columns: [sepal_length, sepal_width, petal_length, petal_width, versicolor, virginica, japan, usa]\n",
            "Index: []\n"
          ],
          "name": "stdout"
        },
        {
          "output_type": "display_data",
          "data": {
            "image/png": "[encoded data removed]",
            "text/plain": [
              "<Figure size 432x288 with 2 Axes>"
            ]
          },
          "metadata": {
            "tags": [],
            "needs_background": "light"
          }
        }
      ]
    },
    {
      "cell_type": "code",
      "metadata": {
        "colab": {
          "base_uri": "https://localhost:8080/"
        },
        "id": "RCy8TXVh74gp",
        "outputId": "934ff153-fe70-438f-902b-e615c7a490d2"
      },
      "source": [
        "final_data.shape"
      ],
      "execution_count": 12,
      "outputs": [
        {
          "output_type": "execute_result",
          "data": {
            "text/plain": [
              "(140, 8)"
            ]
          },
          "metadata": {
            "tags": []
          },
          "execution_count": 12
        }
      ]
    }
  ]
}