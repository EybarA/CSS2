{
  "nbformat": 4,
  "nbformat_minor": 0,
  "metadata": {
    "colab": {
      "name": "Ayala_Eybar_problem_set_1",
      "provenance": [],
      "collapsed_sections": []
    },
    "kernelspec": {
      "name": "python3",
      "display_name": "Python 3"
    },
    "language_info": {
      "name": "python"
    }
  },
  "cells": [
    {
      "cell_type": "markdown",
      "metadata": {
        "id": "fvGnRagE5tXz"
      },
      "source": [
        "## Block 1"
      ]
    },
    {
      "cell_type": "code",
      "metadata": {
        "id": "jQ9n9Vq35X4D"
      },
      "source": [
        "# Libraries being imported\n",
        "import numpy as np\n",
        "import pandas as pd"
      ],
      "execution_count": 35,
      "outputs": []
    },
    {
      "cell_type": "markdown",
      "metadata": {
        "id": "TPFF0TqH6zYj"
      },
      "source": [
        "## Block 2"
      ]
    },
    {
      "cell_type": "code",
      "metadata": {
        "colab": {
          "base_uri": "https://localhost:8080/"
        },
        "id": "LTlqbCxJ64KS",
        "outputId": "32550257-e9c0-4cdd-8937-00af7e96e688"
      },
      "source": [
        "# Loading the data\n",
        "data = pd.read_csv('problem_set_1_data.csv')\n",
        "\n",
        "# Rename the columns\n",
        "data.columns = ['quiz_total','attended','final_grade','final_exam','name']\n",
        "\n",
        "# Getting head and tail of data frame plus summary\n",
        "head = data.head()\n",
        "print('------------ Head ------------')\n",
        "print('Head of data = ', head)\n",
        "\n",
        "tail = data.tail()\n",
        "print('------------ Tail ------------')\n",
        "print(tail)\n",
        "\n",
        "\n",
        "summary = data.describe()\n",
        "print('------------ Summary ------------')\n",
        "print (summary)"
      ],
      "execution_count": 56,
      "outputs": [
        {
          "output_type": "stream",
          "text": [
            "------------ Head ------------\n",
            "Head of data =     quiz_total  attended  final_grade  final_exam               name\n",
            "0       78.50         1        99.38          46       Linnie Lietz\n",
            "1       64.25         0        95.78          45      Mitch Mustain\n",
            "2       76.75         0        97.42          41     Salina Chavera\n",
            "3       69.00         1        92.50          38  Kimberely Conwell\n",
            "4       64.00         0        92.50          39          Zack Burk\n",
            "------------ Tail ------------\n",
            "     quiz_total  attended  final_grade  final_exam                 name\n",
            "166        73.5         0        96.25          45           Dana Malta\n",
            "167        75.5         0        98.13          44         Sixta Heyden\n",
            "168        41.0         0        69.38          32       Brianne Broome\n",
            "169        77.0         0       101.25          47  Elouise Weatherholt\n",
            "170        72.0         0        92.81          38        Addie Maharaj\n",
            "------------ Summary ------------\n",
            "       quiz_total    attended  final_grade  final_exam\n",
            "count  171.000000  171.000000   171.000000  171.000000\n",
            "mean    69.131579    0.192982    91.855380   39.672515\n",
            "std      9.488473    0.395798     9.487795    5.511304\n",
            "min      0.000000    0.000000     2.500000    0.000000\n",
            "25%     65.500000    0.000000    89.380000   37.000000\n",
            "50%     72.000000    0.000000    93.130000   40.000000\n",
            "75%     75.500000    0.000000    96.360000   44.000000\n",
            "max     79.500000    1.000000   104.380000   49.000000\n"
          ],
          "name": "stdout"
        }
      ]
    },
    {
      "cell_type": "markdown",
      "metadata": {
        "id": "49C2K2pCQl80"
      },
      "source": [
        "There is a total of 171 students that attended this class. The quiz mean was a 69.1, final exam was 39.7 and the final grade was a 91.86 which brings the class to an average of an A-. We learn that mostly everyone did great in the class as the 25 percentile of the class had an 89 average final grade which is a B+. The lowest grade was a 0 but that was probably those who didn't attend class/dropped the class."
      ]
    },
    {
      "cell_type": "markdown",
      "metadata": {
        "id": "UGxUgMcSTDb3"
      },
      "source": [
        "## Block 3"
      ]
    },
    {
      "cell_type": "code",
      "metadata": {
        "id": "3j5pXm5IS-Jw"
      },
      "source": [
        "# Did attend class\n",
        "boolean_index0 = data['attended'] != 0\n",
        "yes_attendance = data[boolean_index0]\n",
        "y_attendance = yes_attendance.copy()"
      ],
      "execution_count": 58,
      "outputs": []
    },
    {
      "cell_type": "code",
      "metadata": {
        "id": "4HFDQGgNV9jv"
      },
      "source": [
        "# Did not attend class\n",
        "boolean_index1 = data['attended'] != 1\n",
        "no_attendance = data[boolean_index1]\n",
        "n_attendance = no_attendance.copy()"
      ],
      "execution_count": 60,
      "outputs": []
    },
    {
      "cell_type": "code",
      "metadata": {
        "colab": {
          "base_uri": "https://localhost:8080/"
        },
        "id": "EhrBbeGyWgZ1",
        "outputId": "aa842dc4-3545-4e74-e239-cf95c16b9488"
      },
      "source": [
        "# averages of both\n",
        "yes_summary = y_attendance.describe()\n",
        "print('------------ Did go to class ------------')\n",
        "print(yes_summary)\n",
        "\n",
        "no_summary = n_attendance.describe()\n",
        "print('------------ Did not go to class ------------')\n",
        "print(no_summary)"
      ],
      "execution_count": 62,
      "outputs": [
        {
          "output_type": "stream",
          "text": [
            "------------ Did go to class ------------\n",
            "       quiz_total  attended  final_grade  final_exam\n",
            "count   33.000000      33.0    33.000000   33.000000\n",
            "mean    72.500000       1.0    95.072121   40.636364\n",
            "std      5.547029       0.0     4.673980    4.014179\n",
            "min     54.000000       1.0    85.470000   33.000000\n",
            "25%     70.000000       1.0    91.250000   38.000000\n",
            "50%     74.000000       1.0    94.690000   40.000000\n",
            "75%     77.000000       1.0    99.380000   44.000000\n",
            "max     78.500000       1.0   101.250000   47.000000\n",
            "------------ Did not go to class ------------\n",
            "       quiz_total  attended  final_grade  final_exam\n",
            "count  138.000000     138.0   138.000000  138.000000\n",
            "mean    68.326087       0.0    91.086159   39.442029\n",
            "std     10.057028       0.0    10.174000    5.800853\n",
            "min      0.000000       0.0     2.500000    0.000000\n",
            "25%     65.000000       0.0    88.320000   37.000000\n",
            "50%     71.000000       0.0    92.770000   40.000000\n",
            "75%     75.375000       0.0    96.210000   43.750000\n",
            "max     79.500000       0.0   104.380000   49.000000\n"
          ],
          "name": "stdout"
        }
      ]
    },
    {
      "cell_type": "markdown",
      "metadata": {
        "id": "j5icZrpaZCmX"
      },
      "source": [
        "The data shows that 33 people did show up to class while 138 did not. Those who showed up to class had on average a higher quiz total (+4%), slighty higher final exam grade (+1%), and a higher final grade (+4%) than those who didn't. This goes to show that going to class could mean the difference between getting an A- or getting an A+."
      ]
    }
  ]
}