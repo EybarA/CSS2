{
  "nbformat": 4,
  "nbformat_minor": 0,
  "metadata": {
    "colab": {
      "name": "Ayala_Eybar_problem_set_8",
      "provenance": [],
      "collapsed_sections": []
    },
    "kernelspec": {
      "name": "python3",
      "display_name": "Python 3"
    },
    "language_info": {
      "name": "python"
    }
  },
  "cells": [
    {
      "cell_type": "markdown",
      "metadata": {
        "id": "3i72Pu9_vRsw"
      },
      "source": [
        "## Block 1"
      ]
    },
    {
      "cell_type": "code",
      "metadata": {
        "id": "BudGskdyu7x1"
      },
      "source": [
        "# importing libraries\n",
        "import pandas as pd\n",
        "import numpy as np\n",
        "import matplotlib.pyplot as plt\n",
        "import seaborn as sns\n",
        "from sklearn.model_selection import train_test_split\n",
        "from sklearn import tree\n",
        "from sklearn.linear_model import LogisticRegression\n",
        "from sklearn import metrics"
      ],
      "execution_count": 21,
      "outputs": []
    },
    {
      "cell_type": "markdown",
      "metadata": {
        "id": "1yOEAQzsxIGB"
      },
      "source": [
        "## Block 2"
      ]
    },
    {
      "cell_type": "code",
      "metadata": {
        "id": "kEVTU1YWxJlP"
      },
      "source": [
        "# I try couldn't do it\n",
        "#def survival(data):\n",
        "  #y = np.array(titanic['survived'])\n",
        "  #if data is 'class':\n",
        "    #X = np.array(titanic['pclass'])\n",
        "    #Xtrain,Xtest,ytrain,ytest = train_test_split(X.reshape(len(X),1),y,random_state = 1)\n",
        "    #tree_model = tree.DecisionTreeClassifier(max_depth=1)\n",
        "    #tree_model = tree_model.fit(Xtest,ytest)\n",
        "    #testscore = tree_model.score(Xtest,ytest)\n",
        "    #y_predicted = tree_model.predict_proba(Xtest)[:,1]\n",
        "    #figure,axes = plt.subplots(nrows=2,ncols=1)\n",
        "    #fpr,tpr,thresholds = metrics.roc_curve(y_test,y_predicted)\n",
        "    #axes[1,0].plot(fpr,tpr,marker='o')\n",
        "    #plt.plot([0,1],[0,1])\n",
        "    #plt.xlabel('false positive rate')\n",
        "    #plt.ylabel('true positive rate')\n",
        "  #elif data is 'fare':\n",
        "    #X = np.array(titanic['fare'])\n",
        "    #Xtrain,Xtest,ytrain,ytest = train_test_split(X.reshape(len(X),1),y,random_state = 1)\n",
        "    #tree_model = tree.DecisionTreeClassifier(max_depth=1)\n",
        "    #tree_model = tree_model.fit(Xtrain,ytrain)\n",
        "    #trainscore = tree_model.score(Xtrain,ytrain)\n",
        "    #testscore = tree_model.score(Xtest,ytest)"
      ],
      "execution_count": 22,
      "outputs": []
    },
    {
      "cell_type": "markdown",
      "metadata": {
        "id": "sspX6o3OxqLr"
      },
      "source": [
        "## Block 3"
      ]
    },
    {
      "cell_type": "code",
      "metadata": {
        "id": "LYfVlHRqyqnu"
      },
      "source": [
        "titanic = sns.load_dataset('titanic')"
      ],
      "execution_count": 23,
      "outputs": []
    },
    {
      "cell_type": "markdown",
      "metadata": {
        "id": "4OBotji-DqAq"
      },
      "source": [
        "## Block 4"
      ]
    },
    {
      "cell_type": "code",
      "metadata": {
        "colab": {
          "base_uri": "https://localhost:8080/",
          "height": 296
        },
        "id": "qmaJed4OqwN1",
        "outputId": "bceb53e9-3f5b-4890-95c8-e3df09988d18"
      },
      "source": [
        "y = np.array(titanic['survived'])\n",
        "X = np.array(titanic['pclass'])\n",
        "Xtrain,Xtest,ytrain,ytest = train_test_split(X.reshape(len(X),1),y,random_state = 1)\n",
        "tree_model = tree.DecisionTreeClassifier(max_depth=1)\n",
        "tree_model = tree_model.fit(Xtest,ytest)\n",
        "testscore = tree_model.score(Xtest,ytest)\n",
        "y_predicted = tree_model.predict_proba(Xtest)[:,1]\n",
        "fpr,tpr,thresholds = metrics.roc_curve(ytest,y_predicted)\n",
        "plt.plot(fpr,tpr,marker='o')\n",
        "plt.plot([0,1],[0,1])\n",
        "plt.xlabel('false positive rate')\n",
        "plt.ylabel('true positive rate')"
      ],
      "execution_count": 24,
      "outputs": [
        {
          "output_type": "execute_result",
          "data": {
            "text/plain": [
              "Text(0, 0.5, 'true positive rate')"
            ]
          },
          "metadata": {
            "tags": []
          },
          "execution_count": 24
        },
        {
          "output_type": "display_data",
          "data": {
            "image/png": "[encoded data removed]",
            "text/plain": [
              "<Figure size 432x288 with 1 Axes>"
            ]
          },
          "metadata": {
            "tags": [],
            "needs_background": "light"
          }
        }
      ]
    },
    {
      "cell_type": "code",
      "metadata": {
        "colab": {
          "base_uri": "https://localhost:8080/"
        },
        "id": "hGYZj78FGw5L",
        "outputId": "ba1763e4-13d9-4c1f-a4f0-8a10a68f1de2"
      },
      "source": [
        "metrics.roc_auc_score(ytest,y_predicted)"
      ],
      "execution_count": 25,
      "outputs": [
        {
          "output_type": "execute_result",
          "data": {
            "text/plain": [
              "0.6363075657894737"
            ]
          },
          "metadata": {
            "tags": []
          },
          "execution_count": 25
        }
      ]
    },
    {
      "cell_type": "code",
      "metadata": {
        "colab": {
          "base_uri": "https://localhost:8080/",
          "height": 350
        },
        "id": "LrR2dMChEB7d",
        "outputId": "c0852eda-1f9d-45c7-b630-7e15afa4d511"
      },
      "source": [
        "ax = sns.boxplot(y,X)\n",
        "ax.set(xlabel = 'Survival', ylabel = 'Class')"
      ],
      "execution_count": 26,
      "outputs": [
        {
          "output_type": "stream",
          "text": [
            "/usr/local/lib/python3.7/dist-packages/seaborn/_decorators.py:43: FutureWarning: Pass the following variables as keyword args: x, y. From version 0.12, the only valid positional argument will be `data`, and passing other arguments without an explicit keyword will result in an error or misinterpretation.\n",
            "  FutureWarning\n"
          ],
          "name": "stderr"
        },
        {
          "output_type": "execute_result",
          "data": {
            "text/plain": [
              "[Text(0, 0.5, 'Class'), Text(0.5, 0, 'Survival')]"
            ]
          },
          "metadata": {
            "tags": []
          },
          "execution_count": 26
        },
        {
          "output_type": "display_data",
          "data": {
            "image/png": "[encoded data removed]",
            "text/plain": [
              "<Figure size 432x288 with 1 Axes>"
            ]
          },
          "metadata": {
            "tags": [],
            "needs_background": "light"
          }
        }
      ]
    },
    {
      "cell_type": "code",
      "metadata": {
        "colab": {
          "base_uri": "https://localhost:8080/",
          "height": 296
        },
        "id": "zhrTkMZHENtj",
        "outputId": "3f72314e-69d4-4a8c-8b98-5eb85660636d"
      },
      "source": [
        "ax = sns.barplot(x = X,y = y)\n",
        "ax.set(xlabel = 'Class',ylabel = 'Probability')"
      ],
      "execution_count": 27,
      "outputs": [
        {
          "output_type": "execute_result",
          "data": {
            "text/plain": [
              "[Text(0, 0.5, 'Probability'), Text(0.5, 0, 'Class')]"
            ]
          },
          "metadata": {
            "tags": []
          },
          "execution_count": 27
        },
        {
          "output_type": "display_data",
          "data": {
            "image/png": "[encoded data removed]",
            "text/plain": [
              "<Figure size 432x288 with 1 Axes>"
            ]
          },
          "metadata": {
            "tags": [],
            "needs_background": "light"
          }
        }
      ]
    },
    {
      "cell_type": "markdown",
      "metadata": {
        "id": "zV_CstfDEU84"
      },
      "source": [
        "## Block 5"
      ]
    },
    {
      "cell_type": "code",
      "metadata": {
        "colab": {
          "base_uri": "https://localhost:8080/",
          "height": 296
        },
        "id": "5RI6s-AFygkQ",
        "outputId": "0026f912-1fdc-478f-8836-70211b0364ab"
      },
      "source": [
        "y = np.array(titanic['survived'])\n",
        "X = np.array(titanic['fare'])\n",
        "Xtrain,Xtest,ytrain,ytest = train_test_split(X.reshape(len(X),1),y,random_state = 1)\n",
        "tree_model = tree.DecisionTreeClassifier(max_depth=1)\n",
        "tree_model = tree_model.fit(Xtrain,ytrain)\n",
        "testscore = tree_model.score(Xtest,ytest)\n",
        "y_predicted = tree_model.predict_proba(Xtest)[:,1]\n",
        "fpr,tpr,thresholds = metrics.roc_curve(ytest,y_predicted)\n",
        "plt.plot(fpr,tpr,marker='o')\n",
        "plt.plot([0,1],[0,1])\n",
        "plt.xlabel('false positive rate')\n",
        "plt.ylabel('true positive rate')"
      ],
      "execution_count": 28,
      "outputs": [
        {
          "output_type": "execute_result",
          "data": {
            "text/plain": [
              "Text(0, 0.5, 'true positive rate')"
            ]
          },
          "metadata": {
            "tags": []
          },
          "execution_count": 28
        },
        {
          "output_type": "display_data",
          "data": {
            "image/png": "[encoded data removed]",
            "text/plain": [
              "<Figure size 432x288 with 1 Axes>"
            ]
          },
          "metadata": {
            "tags": [],
            "needs_background": "light"
          }
        }
      ]
    },
    {
      "cell_type": "code",
      "metadata": {
        "colab": {
          "base_uri": "https://localhost:8080/"
        },
        "id": "wtwimv6GGrdR",
        "outputId": "4e972e68-993d-4068-ded7-c4c7e1b9a2c1"
      },
      "source": [
        "metrics.roc_auc_score(ytest,y_predicted)"
      ],
      "execution_count": 29,
      "outputs": [
        {
          "output_type": "execute_result",
          "data": {
            "text/plain": [
              "0.6474506578947368"
            ]
          },
          "metadata": {
            "tags": []
          },
          "execution_count": 29
        }
      ]
    },
    {
      "cell_type": "code",
      "metadata": {
        "colab": {
          "base_uri": "https://localhost:8080/",
          "height": 350
        },
        "id": "oj6zASuHEcia",
        "outputId": "95a93cc7-22cf-47f9-a252-bfb573c446e3"
      },
      "source": [
        "ax = sns.boxplot(y,X)\n",
        "ax.set(xlabel = 'Survival',ylabel = 'Fare')"
      ],
      "execution_count": 30,
      "outputs": [
        {
          "output_type": "stream",
          "text": [
            "/usr/local/lib/python3.7/dist-packages/seaborn/_decorators.py:43: FutureWarning: Pass the following variables as keyword args: x, y. From version 0.12, the only valid positional argument will be `data`, and passing other arguments without an explicit keyword will result in an error or misinterpretation.\n",
            "  FutureWarning\n"
          ],
          "name": "stderr"
        },
        {
          "output_type": "execute_result",
          "data": {
            "text/plain": [
              "[Text(0, 0.5, 'Fare'), Text(0.5, 0, 'Survival')]"
            ]
          },
          "metadata": {
            "tags": []
          },
          "execution_count": 30
        },
        {
          "output_type": "display_data",
          "data": {
            "image/png": "[encoded data removed]",
            "text/plain": [
              "<Figure size 432x288 with 1 Axes>"
            ]
          },
          "metadata": {
            "tags": [],
            "needs_background": "light"
          }
        }
      ]
    },
    {
      "cell_type": "markdown",
      "metadata": {
        "id": "iZQUkV7fHW3D"
      },
      "source": [
        "# From the data it seems like the Fare is a better predictor of survival. It has a higher RoC_AUC score than what Pclass had. Although, I believe that there might be a correlation as usually higher fares meant higher class, but also that might not be the case sometimes."
      ]
    }
  ]
}